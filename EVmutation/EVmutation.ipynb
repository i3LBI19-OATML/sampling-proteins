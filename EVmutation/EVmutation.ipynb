{
 "cells": [
  {
   "cell_type": "markdown",
   "metadata": {},
   "source": [
    "# EVmutation Supplementary Code\n",
    "\n",
    "*Important note*: This is the initial version of the code distributed with the publication. Please check back regularly on http://evmutation.org and http://github.com/debbiemarkslab for the most up-to-date versions of the code and new features.\n",
    "\n",
    "This HTML file is the static version of the included Jupyter notebook (EVmutation.ipynb) that demonstrates usage of the Python code for mutation effect prediction.\n",
    "\n",
    "## 1. Installation instructions\n",
    "\n",
    "### plmc\n",
    "\n",
    "C code to infer pairwise undirected graphical models for families of biological sequences. For installation instructions, please refer to README.md in the plmc subdirectory.\n",
    "\n",
    "Github repository: http://github.com/debbiemarkslab/plmc\n",
    "\n",
    "### Python code\n",
    "\n",
    "Python code to compute mutation effects from a graphical model inferred using plmc. This code requires an up-to-date Python 3 installation, and the following packages (we recommend using the latest Anaconda Python 3 distribution from https://www.continuum.io, which includes all of these packages by default): \n",
    "\n",
    "* numpy\n",
    "* scipy\n",
    "* pandas\n",
    "* numba\n",
    "\n",
    "Github repository: http://github.com/debbiemarkslab/EVmutation\n",
    "\n",
    "\n",
    "## 2. Computing pairwise models of sequences\n",
    "\n",
    "### Alignment requirements\n",
    "\n",
    "The first step of the EVmutation method is to compute a pairwise model of sequences from a family sequence alignment, e.g. the included example file (example/PABP_YEAST.a2m). This alignment has to be in aligned FASTA/A2M format and must fulfill the following requirements:\n",
    "\n",
    "* The target sequence may not contain any gaps.\n",
    "* Columns that should be excluded from model inference (e.g. too many gaps) must be represented by lowercase characters. Gaps in these positions must be represented by a dot (\".\") rather than a dash (\"-\").\n",
    "* The identifier of the target sequence has to be passed to plmc with the -f parameter (see below)\n",
    "\n",
    "### Regularization\n",
    "\n",
    "We adjust the strength of $l_2$-regularization $\\lambda_J$ on the couplings based on the length of the model that we infer as $0.2 * (N - 1)$, where $N$ is the length of the model. $N$ corresponds to the number of uppercase positions in the alignment file. For the included PABP_YEAST example, there are 82 uppercase residues in the PABP_YEAST sequence, which means that we choose a regularization strength of $\\lambda_J = (82-1) * 0.2 = 16.2$. This value is passed to plmc using the -le command line option.\n",
    "\n",
    "\n",
    "### Running plmc\n",
    "\n",
    "To infer model parameters from the alignment, please run\n",
    "\n",
    "```bash\n",
    "plmc/bin/plmc -o example/PABP_YEAST.model_params -c example/PABP_YEAST.txt -f PABP_YEAST -le 16.2 -lh 0.01 -m 200 -t 0.2 -g example/PABP_YEAST.a2m\n",
    "```\n",
    "\n",
    "This will generate a binary file with the model parameters (example/PABP_YEAST.model_params) and a text file with the summarized epistatic constraint between pairs of positions (PABP_YEAST.txt). The model parameters can then be used to predict the effects of mutations.\n",
    "\n",
    "Depending on the input alignment, it may be necessary to adjust the sequence alphabet (e.g. for RNA sequences using ```-a \"-ACGU\"```) or the identity cutoff for sequence reweighting (```-t```, e.g. for viral proteins). Additional information about the meaning of the different command line parameters can be obtained using ```plmc/bin/plmc -h```.\n",
    "\n",
    "## 3. Predicting mutation effects"
   ]
  },
  {
   "cell_type": "code",
   "execution_count": 1,
   "metadata": {
    "collapsed": false
   },
   "outputs": [],
   "source": [
    "import pandas as pd\n",
    "\n",
    "from model import CouplingsModel\n",
    "import tools"
   ]
  },
  {
   "cell_type": "code",
   "execution_count": 2,
   "metadata": {
    "collapsed": false
   },
   "outputs": [],
   "source": [
    "# load parameters from file to create a pairwise model\n",
    "c = CouplingsModel(\"example/PABP_YEAST.model_params\")"
   ]
  },
  {
   "cell_type": "markdown",
   "metadata": {},
   "source": [
    "### Predicting an experimental dataset"
   ]
  },
  {
   "cell_type": "code",
   "execution_count": 3,
   "metadata": {
    "collapsed": true
   },
   "outputs": [],
   "source": [
    "# read the experimental mutational scanning dataset for PABP by Melamed et al., RNA, 2013\n",
    "data = pd.read_csv(\n",
    "    \"example/PABP_YEAST_Fields2013-singles.csv\", sep=\";\", comment=\"#\"\n",
    ")\n",
    "\n",
    "# predict mutations using our model\n",
    "data_pred = tools.predict_mutation_table(\n",
    "    c, data, \"effect_prediction_epistatic\"\n",
    ")"
   ]
  },
  {
   "cell_type": "code",
   "execution_count": 4,
   "metadata": {
    "collapsed": true
   },
   "outputs": [],
   "source": [
    "# can also add predictions by the corresponding independent model\n",
    "c0 = c.to_independent_model()\n",
    "\n",
    "data_pred = tools.predict_mutation_table(\n",
    "    c0, data_pred, \"effect_prediction_independent\"\n",
    ")"
   ]
  },
  {
   "cell_type": "code",
   "execution_count": 5,
   "metadata": {
    "collapsed": false
   },
   "outputs": [
    {
     "data": {
      "text/html": [
       "<div>\n",
       "<table border=\"1\" class=\"dataframe\">\n",
       "  <thead>\n",
       "    <tr style=\"text-align: right;\">\n",
       "      <th></th>\n",
       "      <th>mutant</th>\n",
       "      <th>linear</th>\n",
       "      <th>log</th>\n",
       "      <th>effect_prediction_epistatic</th>\n",
       "      <th>effect_prediction_independent</th>\n",
       "    </tr>\n",
       "  </thead>\n",
       "  <tbody>\n",
       "    <tr>\n",
       "      <th>0</th>\n",
       "      <td>G126A</td>\n",
       "      <td>0.711743</td>\n",
       "      <td>-0.490571</td>\n",
       "      <td>-2.610615</td>\n",
       "      <td>0.406487</td>\n",
       "    </tr>\n",
       "    <tr>\n",
       "      <th>1</th>\n",
       "      <td>G126C</td>\n",
       "      <td>0.449027</td>\n",
       "      <td>-1.155127</td>\n",
       "      <td>-5.663638</td>\n",
       "      <td>-0.027602</td>\n",
       "    </tr>\n",
       "    <tr>\n",
       "      <th>2</th>\n",
       "      <td>G126E</td>\n",
       "      <td>0.588928</td>\n",
       "      <td>-0.763836</td>\n",
       "      <td>-6.611062</td>\n",
       "      <td>-1.827570</td>\n",
       "    </tr>\n",
       "    <tr>\n",
       "      <th>3</th>\n",
       "      <td>G126D</td>\n",
       "      <td>0.229853</td>\n",
       "      <td>-2.121218</td>\n",
       "      <td>-7.270577</td>\n",
       "      <td>-1.180076</td>\n",
       "    </tr>\n",
       "    <tr>\n",
       "      <th>4</th>\n",
       "      <td>G126N</td>\n",
       "      <td>0.679435</td>\n",
       "      <td>-0.557593</td>\n",
       "      <td>-5.809167</td>\n",
       "      <td>0.387440</td>\n",
       "    </tr>\n",
       "  </tbody>\n",
       "</table>\n",
       "</div>"
      ],
      "text/plain": [
       "  mutant    linear       log  effect_prediction_epistatic  \\\n",
       "0  G126A  0.711743 -0.490571                    -2.610615   \n",
       "1  G126C  0.449027 -1.155127                    -5.663638   \n",
       "2  G126E  0.588928 -0.763836                    -6.611062   \n",
       "3  G126D  0.229853 -2.121218                    -7.270577   \n",
       "4  G126N  0.679435 -0.557593                    -5.809167   \n",
       "\n",
       "   effect_prediction_independent  \n",
       "0                       0.406487  \n",
       "1                      -0.027602  \n",
       "2                      -1.827570  \n",
       "3                      -1.180076  \n",
       "4                       0.387440  "
      ]
     },
     "execution_count": 5,
     "metadata": {},
     "output_type": "execute_result"
    }
   ],
   "source": [
    "data_pred.head()"
   ]
  },
  {
   "cell_type": "markdown",
   "metadata": {},
   "source": [
    "### Predicting single-substitution landscape (independent of experiment)"
   ]
  },
  {
   "cell_type": "code",
   "execution_count": 6,
   "metadata": {
    "collapsed": false
   },
   "outputs": [
    {
     "data": {
      "text/html": [
       "<div>\n",
       "<table border=\"1\" class=\"dataframe\">\n",
       "  <thead>\n",
       "    <tr style=\"text-align: right;\">\n",
       "      <th></th>\n",
       "      <th>mutant</th>\n",
       "      <th>pos</th>\n",
       "      <th>wt</th>\n",
       "      <th>subs</th>\n",
       "      <th>frequency</th>\n",
       "      <th>effect_prediction_epistatic</th>\n",
       "    </tr>\n",
       "  </thead>\n",
       "  <tbody>\n",
       "    <tr>\n",
       "      <th>0</th>\n",
       "      <td>K123A</td>\n",
       "      <td>123</td>\n",
       "      <td>K</td>\n",
       "      <td>A</td>\n",
       "      <td>0.077201</td>\n",
       "      <td>0.796669</td>\n",
       "    </tr>\n",
       "    <tr>\n",
       "      <th>1</th>\n",
       "      <td>K123C</td>\n",
       "      <td>123</td>\n",
       "      <td>K</td>\n",
       "      <td>C</td>\n",
       "      <td>0.001461</td>\n",
       "      <td>-3.337328</td>\n",
       "    </tr>\n",
       "    <tr>\n",
       "      <th>2</th>\n",
       "      <td>K123D</td>\n",
       "      <td>123</td>\n",
       "      <td>K</td>\n",
       "      <td>D</td>\n",
       "      <td>0.118235</td>\n",
       "      <td>-0.316713</td>\n",
       "    </tr>\n",
       "    <tr>\n",
       "      <th>3</th>\n",
       "      <td>K123E</td>\n",
       "      <td>123</td>\n",
       "      <td>K</td>\n",
       "      <td>E</td>\n",
       "      <td>0.110503</td>\n",
       "      <td>-1.078200</td>\n",
       "    </tr>\n",
       "    <tr>\n",
       "      <th>4</th>\n",
       "      <td>K123F</td>\n",
       "      <td>123</td>\n",
       "      <td>K</td>\n",
       "      <td>F</td>\n",
       "      <td>0.007791</td>\n",
       "      <td>-3.013274</td>\n",
       "    </tr>\n",
       "  </tbody>\n",
       "</table>\n",
       "</div>"
      ],
      "text/plain": [
       "  mutant  pos wt subs  frequency  effect_prediction_epistatic\n",
       "0  K123A  123  K    A   0.077201                     0.796669\n",
       "1  K123C  123  K    C   0.001461                    -3.337328\n",
       "2  K123D  123  K    D   0.118235                    -0.316713\n",
       "3  K123E  123  K    E   0.110503                    -1.078200\n",
       "4  K123F  123  K    F   0.007791                    -3.013274"
      ]
     },
     "execution_count": 6,
     "metadata": {},
     "output_type": "execute_result"
    }
   ],
   "source": [
    "singles = tools.single_mutant_matrix(\n",
    "    c, output_column=\"effect_prediction_epistatic\"\n",
    ")\n",
    "\n",
    "singles.head()"
   ]
  },
  {
   "cell_type": "markdown",
   "metadata": {},
   "source": [
    "### Predicting arbitrary mutations"
   ]
  },
  {
   "cell_type": "code",
   "execution_count": 7,
   "metadata": {
    "collapsed": false
   },
   "outputs": [
    {
     "data": {
      "text/plain": [
       "-6.9225586684769951"
      ]
     },
     "execution_count": 7,
     "metadata": {},
     "output_type": "execute_result"
    }
   ],
   "source": [
    "# double mutant L186M, G188A\n",
    "delta_E, delta_E_couplings, delta_E_fields = c.delta_hamiltonian([(186, \"L\", \"M\"), (188, \"G\", \"A\")])\n",
    "delta_E"
   ]
  }
 ],
 "metadata": {
  "anaconda-cloud": {},
  "kernelspec": {
   "display_name": "Python [python3]",
   "language": "python",
   "name": "Python [python3]"
  },
  "language_info": {
   "codemirror_mode": {
    "name": "ipython",
    "version": 3
   },
   "file_extension": ".py",
   "mimetype": "text/x-python",
   "name": "python",
   "nbconvert_exporter": "python",
   "pygments_lexer": "ipython3",
   "version": "3.5.2"
  }
 },
 "nbformat": 4,
 "nbformat_minor": 0
}
